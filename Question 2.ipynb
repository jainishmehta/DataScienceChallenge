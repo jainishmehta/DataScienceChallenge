{
 "cells": [
  {
   "cell_type": "markdown",
   "id": "e878da7b",
   "metadata": {},
   "source": [
    "### Question 2"
   ]
  },
  {
   "cell_type": "markdown",
   "id": "cfc5ae20",
   "metadata": {},
   "source": [
    "#### 2a"
   ]
  },
  {
   "cell_type": "markdown",
   "id": "95ed151c",
   "metadata": {},
   "source": [
    "SELECT COUNT(OrderID) FROM Orders\n",
    "LEFT JOIN Shippers ON Shippers.ShipperID=Orders.ShipperID\n",
    "WHERE Shippers.ShipperName='Speedy Express'\n"
   ]
  },
  {
   "cell_type": "markdown",
   "id": "b9747080",
   "metadata": {},
   "source": [
    "The result from this query is 54."
   ]
  },
  {
   "cell_type": "markdown",
   "id": "f37d3cc4",
   "metadata": {},
   "source": [
    "#### 2b"
   ]
  },
  {
   "cell_type": "markdown",
   "id": "e85e1ff2",
   "metadata": {},
   "source": [
    "SELECT LastName FROM Employees, Orders\n",
    "where Orders.EmployeeID=Employees.EmployeeID\n",
    "GROUP BY Orders.EmployeeID ORDER BY COUNT(*) DESC LIMIT 1;"
   ]
  },
  {
   "cell_type": "markdown",
   "id": "9781af61",
   "metadata": {},
   "source": [
    "The result from this query is Peacock."
   ]
  },
  {
   "cell_type": "markdown",
   "id": "a2fc7906",
   "metadata": {},
   "source": [
    "#### 2c"
   ]
  },
  {
   "cell_type": "markdown",
   "id": "10e18408",
   "metadata": {},
   "source": [
    "\n",
    "SELECT  Products.ProductName\n",
    "FROM Orders,OrderDetails, Customers, Products\n",
    "WHERE Customers.Country = \"Germany\" AND OrderDetails.ProductID = Products.ProductID AND OrderDetails.OrderID =  Orders.OrderID AND  Customers.CustomerID =  Orders.CustomerID\n",
    "GROUP BY Products.ProductID\n",
    "ORDER BY SUM(Quantity) DESC\n",
    "LIMIT 1;"
   ]
  },
  {
   "cell_type": "markdown",
   "id": "bcbd6aeb",
   "metadata": {},
   "source": [
    "The result from this query is Boston Crab Meat.\n",
    "\n"
   ]
  }
 ],
 "metadata": {
  "kernelspec": {
   "display_name": "Python 3 (ipykernel)",
   "language": "python",
   "name": "python3"
  },
  "language_info": {
   "codemirror_mode": {
    "name": "ipython",
    "version": 3
   },
   "file_extension": ".py",
   "mimetype": "text/x-python",
   "name": "python",
   "nbconvert_exporter": "python",
   "pygments_lexer": "ipython3",
   "version": "3.8.10"
  }
 },
 "nbformat": 4,
 "nbformat_minor": 5
}
